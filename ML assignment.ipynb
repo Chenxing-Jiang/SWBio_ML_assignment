{
 "cells": [
  {
   "cell_type": "markdown",
   "id": "7686bb56-5b32-4ea1-a790-fc58e2ee5590",
   "metadata": {},
   "source": [
    "## Aim\n",
    "### To predict which organelle the unknown tail anchored proteins localize to by focusing their hydrophobicy and amino acid charge at the tails."
   ]
  },
  {
   "cell_type": "markdown",
   "id": "5bfaf805-1f7e-4d37-a7fd-a47151da3a75",
   "metadata": {},
   "source": [
    "## Preparing dataset"
   ]
  },
  {
   "cell_type": "code",
   "execution_count": 1,
   "id": "7862404b-ecfd-43c3-89b7-1c83b5faf188",
   "metadata": {
    "tags": []
   },
   "outputs": [],
   "source": [
    "# import packages required\n",
    "import pandas as pd\n",
    "import seaborn as sns\n",
    "import numpy as np\n",
    "import openpyxl\n",
    "from sklearn.model_selection import train_test_split\n",
    "from sklearn.linear_model import LinearRegression\n",
    "from sklearn.neighbors import KNeighborsClassifier\n",
    "from sklearn.inspection import DecisionBoundaryDisplay"
   ]
  },
  {
   "cell_type": "code",
   "execution_count": 2,
   "id": "8d0b17ae-ac35-4b36-bcdf-f39639f1ee7d",
   "metadata": {
    "tags": []
   },
   "outputs": [
    {
     "name": "stdout",
     "output_type": "stream",
     "text": [
      "                   Gene                                     Annotated as  \\\n",
      "0     ZDB-GENE-030427-1                                           cntn1a   \n",
      "1    ZDB-GENE-070705-18                                           acbd5b   \n",
      "2   ZDB-GENE-040801-131  bokax,Bcl-2-relatedovariankillerproteinhomologA   \n",
      "3   ZDB-GENE-050522-268                                           acbd5a   \n",
      "4  ZDB-GENE-040426-1443                                           cdkal1   \n",
      "\n",
      "                                             Protein  \\\n",
      "0                                       Contactin-1a   \n",
      "1     Acyl-CoA-binding domain-containing protein 5-B   \n",
      "2     Bcl-2-related ovarian killer protein homolog A   \n",
      "3      Acyl-CoA-binding domain-containing protein 5A   \n",
      "4  Threonylcarbamoyladenosine tRNA methylthiotran...   \n",
      "\n",
      "  Possible organelle prediction (not using classifier)  Length  Exp AA  \\\n",
      "0                             PM(hasERsignalpeptide)      1032    4.44   \n",
      "1                                                PO!       410   21.17   \n",
      "2                                           PO/MITO?       221   16.05   \n",
      "3                                                PO!       501   22.01   \n",
      "4      plas: 15, E.R.: 8, cyto: 5, mito: 3, golg: 1        547   16.25   \n",
      "\n",
      "   First 60  PredHel  Topology   Software  ...  Unnamed: 85  Unnamed: 86  \\\n",
      "0      0.01        0          o       NaN  ...          NaN          NaN   \n",
      "1      0.00        1  o382-404i       NaN  ...          NaN          NaN   \n",
      "2      0.00        0          o       NaN  ...          NaN          NaN   \n",
      "3      0.00        1  o470-492i       NaN  ...          NaN          NaN   \n",
      "4      0.00        0          o       NaN  ...          NaN          NaN   \n",
      "\n",
      "   Unnamed: 87 Unnamed: 88 Unnamed: 89 Unnamed: 90  Unnamed: 91  Unnamed: 92  \\\n",
      "0          NaN         NaN         NaN         NaN          NaN          NaN   \n",
      "1          NaN         NaN         NaN         NaN          NaN          NaN   \n",
      "2          NaN         NaN         NaN         NaN          NaN          NaN   \n",
      "3          NaN         NaN         NaN         NaN          NaN          NaN   \n",
      "4          NaN         NaN         NaN         NaN          NaN          NaN   \n",
      "\n",
      "   Unnamed: 93 Unnamed: 94  \n",
      "0          NaN         NaN  \n",
      "1          NaN         NaN  \n",
      "2          NaN         NaN  \n",
      "3          NaN         NaN  \n",
      "4          NaN         NaN  \n",
      "\n",
      "[5 rows x 95 columns]\n"
     ]
    }
   ],
   "source": [
    "# import data\n",
    "# this datadest is a list of proteins whose localizations have been reported. \n",
    "# the data also contains the features of protains' tail: hydrophobicity (annotated as GRAVY), and charge.\n",
    "# the data is obtained from Costello et al., JCS, 2017 (https://journals.biologists.com/jcs/article/130/9/1675/56732/Predicting-the-targeting-of-tail-anchored-proteins)\n",
    "\n",
    "data = pd.read_excel(\"/Users/jiang/Desktop/SWBio ML assignment/zebrafish_TA_protein_prediction.xlsx\")\n",
    "print(data.head())"
   ]
  },
  {
   "cell_type": "code",
   "execution_count": 3,
   "id": "c1bbc506-e015-49dc-a3ca-aad92c37625d",
   "metadata": {
    "tags": []
   },
   "outputs": [
    {
     "data": {
      "text/html": [
       "<div>\n",
       "<style scoped>\n",
       "    .dataframe tbody tr th:only-of-type {\n",
       "        vertical-align: middle;\n",
       "    }\n",
       "\n",
       "    .dataframe tbody tr th {\n",
       "        vertical-align: top;\n",
       "    }\n",
       "\n",
       "    .dataframe thead th {\n",
       "        text-align: right;\n",
       "    }\n",
       "</style>\n",
       "<table border=\"1\" class=\"dataframe\">\n",
       "  <thead>\n",
       "    <tr style=\"text-align: right;\">\n",
       "      <th></th>\n",
       "      <th>Annotated as</th>\n",
       "      <th>TMD</th>\n",
       "      <th>GRAVY</th>\n",
       "      <th>Tail charge</th>\n",
       "    </tr>\n",
       "  </thead>\n",
       "  <tbody>\n",
       "    <tr>\n",
       "      <th>0</th>\n",
       "      <td>cntn1a</td>\n",
       "      <td>GLVGMAIVGGIGLGVAGLAGLI</td>\n",
       "      <td>NaN</td>\n",
       "      <td>NaN</td>\n",
       "    </tr>\n",
       "    <tr>\n",
       "      <th>1</th>\n",
       "      <td>acbd5b</td>\n",
       "      <td>SPFTAVLTVLWPFAVHWLVQFYL</td>\n",
       "      <td>1.252</td>\n",
       "      <td>4.9</td>\n",
       "    </tr>\n",
       "    <tr>\n",
       "      <th>2</th>\n",
       "      <td>bokax,Bcl-2-relatedovariankillerproteinhomologA</td>\n",
       "      <td>WLVTAACACGHYLKAVVFYLL</td>\n",
       "      <td>1.481</td>\n",
       "      <td>0.9</td>\n",
       "    </tr>\n",
       "    <tr>\n",
       "      <th>3</th>\n",
       "      <td>acbd5a</td>\n",
       "      <td>WWPFDVSLGTVAFAVVWPFVV</td>\n",
       "      <td>1.414</td>\n",
       "      <td>5.9</td>\n",
       "    </tr>\n",
       "    <tr>\n",
       "      <th>4</th>\n",
       "      <td>cdkal1</td>\n",
       "      <td>ILAVVLLLSAVLLALLMEKLL</td>\n",
       "      <td>2.581</td>\n",
       "      <td>//</td>\n",
       "    </tr>\n",
       "  </tbody>\n",
       "</table>\n",
       "</div>"
      ],
      "text/plain": [
       "                                      Annotated as                      TMD  \\\n",
       "0                                           cntn1a   GLVGMAIVGGIGLGVAGLAGLI   \n",
       "1                                           acbd5b  SPFTAVLTVLWPFAVHWLVQFYL   \n",
       "2  bokax,Bcl-2-relatedovariankillerproteinhomologA    WLVTAACACGHYLKAVVFYLL   \n",
       "3                                           acbd5a    WWPFDVSLGTVAFAVVWPFVV   \n",
       "4                                           cdkal1    ILAVVLLLSAVLLALLMEKLL   \n",
       "\n",
       "   GRAVY Tail charge  \n",
       "0    NaN         NaN  \n",
       "1  1.252         4.9  \n",
       "2  1.481         0.9  \n",
       "3  1.414         5.9  \n",
       "4  2.581          //  "
      ]
     },
     "execution_count": 3,
     "metadata": {},
     "output_type": "execute_result"
    }
   ],
   "source": [
    "# make a new dataframe that only contains specific rows\n",
    "data_1 = data.filter([\"Annotated as\", \"TMD\", \"GRAVY\", \"Tail charge\"], axis=1)\n",
    "data_1.head()"
   ]
  },
  {
   "cell_type": "code",
   "execution_count": 4,
   "id": "70245dfb-2d89-4a32-8133-9039d4181ac4",
   "metadata": {
    "tags": []
   },
   "outputs": [
    {
     "name": "stdout",
     "output_type": "stream",
     "text": [
      "                                        Annotated as                      TMD  \\\n",
      "1                                             acbd5b  SPFTAVLTVLWPFAVHWLVQFYL   \n",
      "2    bokax,Bcl-2-relatedovariankillerproteinhomologA    WLVTAACACGHYLKAVVFYLL   \n",
      "3                                             acbd5a    WWPFDVSLGTVAFAVVWPFVV   \n",
      "4                                             cdkal1    ILAVVLLLSAVLLALLMEKLL   \n",
      "5                                           ankrd46b    VLLLLVVIALLSLGIAYYVSG   \n",
      "..                                               ...                      ...   \n",
      "649                                           rnf152   AWTGVCTVLLVAFILIFLLGIV   \n",
      "650                                            lrch4   SIGFLLFYSLLMALLYLLYCNL   \n",
      "651                                     LOC101885013   AAVSSPAAWVGVGIGVCAAYAY   \n",
      "652                                             lmln   VVNLWQLLLTLTPLLIGFLLCG   \n",
      "653                                            caln1   SLICAFAMAFIISVMLIAANQM   \n",
      "\n",
      "        GRAVY Tail charge  \n",
      "1    1.252000         4.9  \n",
      "2    1.481000         0.9  \n",
      "3    1.414000         5.9  \n",
      "4    2.581000          //  \n",
      "5    2.429000        -0.8  \n",
      "..        ...         ...  \n",
      "649  2.631818    2.087354  \n",
      "650  1.868182       -0.09  \n",
      "651  1.295455     1.90998  \n",
      "652  1.850000   -1.087494  \n",
      "653  2.000000   -0.087504  \n",
      "\n",
      "[452 rows x 4 columns]\n"
     ]
    }
   ],
   "source": [
    "# remove rows with NaN\n",
    "data_2 = data_1.dropna(axis = 0, how = \"any\")\n",
    "print(data_2)"
   ]
  },
  {
   "cell_type": "markdown",
   "id": "1cb261f5-4090-4cea-a464-01437ee7516c",
   "metadata": {},
   "source": [
    "Row 4 has \"//\" instead of NaN, which was not removed by .dropna() function"
   ]
  },
  {
   "cell_type": "code",
   "execution_count": 5,
   "id": "df3ddfb1-cecb-419e-881a-a6de3f970870",
   "metadata": {
    "tags": []
   },
   "outputs": [
    {
     "name": "stdout",
     "output_type": "stream",
     "text": [
      "                                        Annotated as                      TMD  \\\n",
      "1                                             acbd5b  SPFTAVLTVLWPFAVHWLVQFYL   \n",
      "2    bokax,Bcl-2-relatedovariankillerproteinhomologA    WLVTAACACGHYLKAVVFYLL   \n",
      "3                                             acbd5a    WWPFDVSLGTVAFAVVWPFVV   \n",
      "5                                           ankrd46b    VLLLLVVIALLSLGIAYYVSG   \n",
      "6                                              stx18    AGFRVWILFFLVMCSFSLLFL   \n",
      "..                                               ...                      ...   \n",
      "649                                           rnf152   AWTGVCTVLLVAFILIFLLGIV   \n",
      "650                                            lrch4   SIGFLLFYSLLMALLYLLYCNL   \n",
      "651                                     LOC101885013   AAVSSPAAWVGVGIGVCAAYAY   \n",
      "652                                             lmln   VVNLWQLLLTLTPLLIGFLLCG   \n",
      "653                                            caln1   SLICAFAMAFIISVMLIAANQM   \n",
      "\n",
      "        GRAVY Tail charge  \n",
      "1    1.252000         4.9  \n",
      "2    1.481000         0.9  \n",
      "3    1.414000         5.9  \n",
      "5    2.429000        -0.8  \n",
      "6    2.129000        -2.1  \n",
      "..        ...         ...  \n",
      "649  2.631818    2.087354  \n",
      "650  1.868182       -0.09  \n",
      "651  1.295455     1.90998  \n",
      "652  1.850000   -1.087494  \n",
      "653  2.000000   -0.087504  \n",
      "\n",
      "[451 rows x 4 columns]\n"
     ]
    }
   ],
   "source": [
    "# used drop() function to remove the row with \"//\"\n",
    "data_3 = data_2.drop(data_2[data_2[\"Tail charge\"] == \"//\"].index)\n",
    "print(data_3)"
   ]
  },
  {
   "cell_type": "code",
   "execution_count": 6,
   "id": "58122beb-7725-4b76-a5fe-0e5ecfba236d",
   "metadata": {
    "tags": []
   },
   "outputs": [
    {
     "data": {
      "text/plain": [
       "<Axes: xlabel='GRAVY', ylabel='Tail charge'>"
      ]
     },
     "execution_count": 6,
     "metadata": {},
     "output_type": "execute_result"
    },
    {
     "data": {
      "image/png": "[encoded data removed]",
      "text/plain": [
       "<Figure size 640x480 with 1 Axes>"
      ]
     },
     "metadata": {},
     "output_type": "display_data"
    }
   ],
   "source": [
    "# plot the data\n",
    "sns.scatterplot(data=data_3, x=\"GRAVY\", y=\"Tail charge\", hue=\"GRAVY\")"
   ]
  },
  {
   "cell_type": "code",
   "execution_count": 7,
   "id": "77506ce0-afbc-4c46-9e00-96248322dc9a",
   "metadata": {
    "tags": []
   },
   "outputs": [
    {
     "name": "stdout",
     "output_type": "stream",
     "text": [
      "  Location   Name                 Unnamed: 2  Isoforms       Accession  \\\n",
      "0     MITO   MAOA        monoamine oxidase A  isoform1     NP_000231.1   \n",
      "1     MITO   MAOA                        NaN  isoform2  NP_001257387.1   \n",
      "2     MITO   MAOB        monoamine oxidase B         -     NP_000889.3   \n",
      "3     MITO  CYB5B       cytochrome b5 type B         -     NP_085056.2   \n",
      "4     MITO    BAX  BCL2-associated X protein      zeta  NP_001278360.1   \n",
      "\n",
      "   Size (aa)  Tail (aa)      TMD  TMD length               TMD sequence  ...  \\\n",
      "0        527          8  504-519          16         IIGFSTSVTALGFVLY    ...   \n",
      "1        394          8  371-386          16                        NaN  ...   \n",
      "2        520          8  490-512          23    PGLLRLIGLTTIFSATALGFLAH  ...   \n",
      "3        150          6  122-144          23  CWAYWILPIIGAVLLGFLYRYYT    ...   \n",
      "4        114          4   88-110          23    GTPTWQTVTIFVAGVLTASLTIW  ...   \n",
      "\n",
      "   GRAVY Tail charge       -10 AA  GRAVY.1 Charge                 -20 AA  \\\n",
      "0  1.706         2.9  NLPSVSGLLK      0.46    0.9  VEITHTFWERNLPSVSGLLK    \n",
      "1    NaN         NaN          NaN      NaN    NaN                    NaN   \n",
      "2  1.278         2.9  TFLERHLPSV      0.03    0.2  VDVPAQPITTTFLERHLPSV    \n",
      "3  1.183        -0.1  DPSKNDTCKS     -1.97   -0.1  SDLKPESGSKDPSKNDTCKS    \n",
      "4  0.996         1.9  GGWDGLLSYF      0.27   -1.1  ERLLGWIQDQGGWDGLLSYF    \n",
      "\n",
      "   GRAVY.2 Charge.1  Pex19\\nbinding  Reference  \n",
      "0   -0.045      0.2            0.72        (3)  \n",
      "1      NaN      NaN            0.54        NaN  \n",
      "2    0.170     -0.8            0.39        (3)  \n",
      "3   -1.755     -0.1            0.22        (3)  \n",
      "4   -0.250     -2.1            0.22        (3)  \n",
      "\n",
      "[5 rows x 22 columns]\n"
     ]
    }
   ],
   "source": [
    "# import dataset that will be used as teacher dataset\n",
    "data_teacher = pd.read_excel(\"/Users/jiang/Desktop/SWBio ML assignment/data_teacher_human.xlsx\")\n",
    "print(data_teacher.head())"
   ]
  },
  {
   "cell_type": "code",
   "execution_count": 8,
   "id": "5fabeda7-66ed-44bb-82a6-59f3fb47df12",
   "metadata": {
    "tags": []
   },
   "outputs": [
    {
     "data": {
      "text/html": [
       "<div>\n",
       "<style scoped>\n",
       "    .dataframe tbody tr th:only-of-type {\n",
       "        vertical-align: middle;\n",
       "    }\n",
       "\n",
       "    .dataframe tbody tr th {\n",
       "        vertical-align: top;\n",
       "    }\n",
       "\n",
       "    .dataframe thead th {\n",
       "        text-align: right;\n",
       "    }\n",
       "</style>\n",
       "<table border=\"1\" class=\"dataframe\">\n",
       "  <thead>\n",
       "    <tr style=\"text-align: right;\">\n",
       "      <th></th>\n",
       "      <th>Location</th>\n",
       "      <th>Name</th>\n",
       "      <th>GRAVY</th>\n",
       "      <th>Tail charge</th>\n",
       "    </tr>\n",
       "  </thead>\n",
       "  <tbody>\n",
       "    <tr>\n",
       "      <th>0</th>\n",
       "      <td>MITO</td>\n",
       "      <td>MAOA</td>\n",
       "      <td>1.706</td>\n",
       "      <td>2.9</td>\n",
       "    </tr>\n",
       "    <tr>\n",
       "      <th>1</th>\n",
       "      <td>MITO</td>\n",
       "      <td>MAOA</td>\n",
       "      <td>NaN</td>\n",
       "      <td>NaN</td>\n",
       "    </tr>\n",
       "    <tr>\n",
       "      <th>2</th>\n",
       "      <td>MITO</td>\n",
       "      <td>MAOB</td>\n",
       "      <td>1.278</td>\n",
       "      <td>2.9</td>\n",
       "    </tr>\n",
       "    <tr>\n",
       "      <th>3</th>\n",
       "      <td>MITO</td>\n",
       "      <td>CYB5B</td>\n",
       "      <td>1.183</td>\n",
       "      <td>-0.1</td>\n",
       "    </tr>\n",
       "    <tr>\n",
       "      <th>4</th>\n",
       "      <td>MITO</td>\n",
       "      <td>BAX</td>\n",
       "      <td>0.996</td>\n",
       "      <td>1.9</td>\n",
       "    </tr>\n",
       "  </tbody>\n",
       "</table>\n",
       "</div>"
      ],
      "text/plain": [
       "  Location   Name  GRAVY  Tail charge\n",
       "0     MITO   MAOA  1.706          2.9\n",
       "1     MITO   MAOA    NaN          NaN\n",
       "2     MITO   MAOB  1.278          2.9\n",
       "3     MITO  CYB5B  1.183         -0.1\n",
       "4     MITO    BAX  0.996          1.9"
      ]
     },
     "execution_count": 8,
     "metadata": {},
     "output_type": "execute_result"
    }
   ],
   "source": [
    "# make a new teacher dataframe that only contains specific columns\n",
    "data_teacher = data_teacher.filter([\"Location\", \"Name\", \"GRAVY\", \"Tail charge\"], axis=1)\n",
    "data_teacher.head()"
   ]
  },
  {
   "cell_type": "code",
   "execution_count": 9,
   "id": "a9f92d33-3d64-4864-893c-d7c8952aee99",
   "metadata": {
    "tags": []
   },
   "outputs": [
    {
     "name": "stdout",
     "output_type": "stream",
     "text": [
      "      Location      Name  GRAVY  Tail charge\n",
      "0         MITO      MAOA  1.706          2.9\n",
      "2         MITO      MAOB  1.278          2.9\n",
      "3         MITO     CYB5B  1.183         -0.1\n",
      "4         MITO       BAX  0.996          1.9\n",
      "5         MITO       BAX  1.450          1.9\n",
      "6         MITO       BAX  1.280          1.9\n",
      "8         MITO      MTX1  2.143         -3.1\n",
      "10        MITO     TOMM5  1.578          0.9\n",
      "11        MITO     TOMM6  1.211         -2.1\n",
      "12        MITO     TOMM7  1.650         -0.1\n",
      "13        MITO    TOMM22  2.067         -0.1\n",
      "14        MITO      BAK1  1.991          2.9\n",
      "15        MITO      MCL1  1.622          0.9\n",
      "17        MITO   BCL2L13  2.657          2.9\n",
      "22        MITO   BCL2L10  1.750          0.9\n",
      "23        MITO    BCL2L2  1.670          0.9\n",
      "24        MITO       HRK  1.152          1.9\n",
      "25        MITO   GDAP1L1  0.904          2.9\n",
      "30          PO     ACBD5  1.226          4.9\n",
      "35          PO     PEX26  1.906          5.2\n",
      "36          PO  FALDH-PO  2.483          9.1\n",
      "37          PO      FAR1  1.589          4.9\n",
      "38     MITO/PO     MIRO1  1.304          1.9\n",
      "45     MITO/PO     GDAP1  2.064          4.9\n",
      "47     MITO/PO      FIS1  1.939          1.9\n",
      "48     MITO/PO      MAVS  2.013          3.1\n",
      "50     MITO/PO       MFF  1.322          1.9\n",
      "57     MITO/PO     OMP25  2.152          1.9\n",
      "58     MITO/PO    BCL-XL  1.822          1.9\n",
      "60  MITO/PO/ER     MIRO2  1.983          0.9\n",
      "61  MITO/PO/ER      BCL2  1.613          1.1\n",
      "62     MITO/ER     BNIP3  1.874          1.9\n",
      "63          ER       BIK  2.539          0.9\n",
      "64          ER     CYB5A  1.035         -2.1\n",
      "66          ER    HMOX-1  1.683         -0.1\n",
      "67          ER    SEC61B  2.048          1.9\n",
      "68          ER    SEC61G  1.900         -0.1\n",
      "69          ER  FALDH-ER  2.447         -1.1\n",
      "70          ER    UBE2J1  2.043         -3.1\n",
      "71          ER    UBE2J2  1.852          0.9\n",
      "74          ER     PTPN1  1.570         -0.1\n",
      "76          ER      VAPA  2.039         -0.1\n",
      "78          ER      VAPB  2.274         -0.1\n",
      "79          ER     SERP1  2.091          0.9\n",
      "80          ER     SLMAP  1.674          0.9\n",
      "81          ER    PARP16  2.152          3.1\n",
      "82          ER    CDKAL1  1.839         -0.1\n",
      "83          ER     SMPD4  1.739          1.2\n",
      "86          ER     USP19  1.983          1.9\n",
      "88          ER      JPH1  2.313         -0.1\n",
      "89          ER      JPH2  2.400         -0.1\n",
      "90          ER      JPH3  2.583         -0.1\n",
      "91          ER      JPH4  2.182         -0.1\n"
     ]
    }
   ],
   "source": [
    "# remove rows with NaN\n",
    "data_teacher_2 = data_teacher.dropna(axis = 0, how = \"any\")\n",
    "print(data_teacher_2)\n"
   ]
  },
  {
   "cell_type": "code",
   "execution_count": 10,
   "id": "b79e97ae-3975-43d7-b9c2-c53ed2236b71",
   "metadata": {
    "tags": []
   },
   "outputs": [
    {
     "name": "stderr",
     "output_type": "stream",
     "text": [
      "/Users/jiang/anaconda3/lib/python3.11/site-packages/seaborn/axisgrid.py:118: UserWarning: The figure layout has changed to tight\n",
      "  self._figure.tight_layout(*args, **kwargs)\n"
     ]
    },
    {
     "data": {
      "text/plain": [
       "<seaborn.axisgrid.FacetGrid at 0x137f000d0>"
      ]
     },
     "execution_count": 10,
     "metadata": {},
     "output_type": "execute_result"
    },
    {
     "data": {
      "image/png": "[encoded data removed]",
      "text/plain": [
       "<Figure size 632.625x500 with 1 Axes>"
      ]
     },
     "metadata": {},
     "output_type": "display_data"
    }
   ],
   "source": [
    "# plot the data\n",
    "\n",
    "sns.relplot(\n",
    "    data=data_teacher_2,\n",
    "    x=\"GRAVY\",\n",
    "    y=\"Tail charge\",\n",
    "    hue=\"Location\",\n",
    ")"
   ]
  },
  {
   "cell_type": "markdown",
   "id": "7d796e87-3bba-4886-8bd9-8750f8fec9ff",
   "metadata": {},
   "source": [
    "## To classify data using K-nearest neighbours\n",
    "\n"
   ]
  },
  {
   "cell_type": "code",
   "execution_count": 11,
   "id": "c1e9bed3-1291-4f33-96e1-d80e074c67b3",
   "metadata": {
    "tags": []
   },
   "outputs": [],
   "source": [
    "# define parameter used for Nearest neighbours\n",
    "X = data_teacher_2[[\"GRAVY\", \"Tail charge\"]]\n",
    "y = data_teacher_2[\"Location\"]"
   ]
  },
  {
   "cell_type": "code",
   "execution_count": 12,
   "id": "eb56809d-871f-4dbd-99fb-93fa23d7e728",
   "metadata": {
    "tags": []
   },
   "outputs": [],
   "source": [
    "# Use scikit-learn to split data into a subset of data to fit with and a subset of data to test against\n",
    "train_X, test_X, train_y, test_y = train_test_split(X, y)"
   ]
  },
  {
   "cell_type": "code",
   "execution_count": 13,
   "id": "2109195d-885e-4ca7-86d1-9adbbcea1e0e",
   "metadata": {
    "tags": []
   },
   "outputs": [
    {
     "data": {
      "text/html": [
       "<style>#sk-container-id-1 {color: black;}#sk-container-id-1 pre{padding: 0;}#sk-container-id-1 div.sk-toggleable {background-color: white;}#sk-container-id-1 label.sk-toggleable__label {cursor: pointer;display: block;width: 100%;margin-bottom: 0;padding: 0.3em;box-sizing: border-box;text-align: center;}#sk-container-id-1 label.sk-toggleable__label-arrow:before {content: \"▸\";float: left;margin-right: 0.25em;color: #696969;}#sk-container-id-1 label.sk-toggleable__label-arrow:hover:before {color: black;}#sk-container-id-1 div.sk-estimator:hover label.sk-toggleable__label-arrow:before {color: black;}#sk-container-id-1 div.sk-toggleable__content {max-height: 0;max-width: 0;overflow: hidden;text-align: left;background-color: #f0f8ff;}#sk-container-id-1 div.sk-toggleable__content pre {margin: 0.2em;color: black;border-radius: 0.25em;background-color: #f0f8ff;}#sk-container-id-1 input.sk-toggleable__control:checked~div.sk-toggleable__content {max-height: 200px;max-width: 100%;overflow: auto;}#sk-container-id-1 input.sk-toggleable__control:checked~label.sk-toggleable__label-arrow:before {content: \"▾\";}#sk-container-id-1 div.sk-estimator input.sk-toggleable__control:checked~label.sk-toggleable__label {background-color: #d4ebff;}#sk-container-id-1 div.sk-label input.sk-toggleable__control:checked~label.sk-toggleable__label {background-color: #d4ebff;}#sk-container-id-1 input.sk-hidden--visually {border: 0;clip: rect(1px 1px 1px 1px);clip: rect(1px, 1px, 1px, 1px);height: 1px;margin: -1px;overflow: hidden;padding: 0;position: absolute;width: 1px;}#sk-container-id-1 div.sk-estimator {font-family: monospace;background-color: #f0f8ff;border: 1px dotted black;border-radius: 0.25em;box-sizing: border-box;margin-bottom: 0.5em;}#sk-container-id-1 div.sk-estimator:hover {background-color: #d4ebff;}#sk-container-id-1 div.sk-parallel-item::after {content: \"\";width: 100%;border-bottom: 1px solid gray;flex-grow: 1;}#sk-container-id-1 div.sk-label:hover label.sk-toggleable__label {background-color: #d4ebff;}#sk-container-id-1 div.sk-serial::before {content: \"\";position: absolute;border-left: 1px solid gray;box-sizing: border-box;top: 0;bottom: 0;left: 50%;z-index: 0;}#sk-container-id-1 div.sk-serial {display: flex;flex-direction: column;align-items: center;background-color: white;padding-right: 0.2em;padding-left: 0.2em;position: relative;}#sk-container-id-1 div.sk-item {position: relative;z-index: 1;}#sk-container-id-1 div.sk-parallel {display: flex;align-items: stretch;justify-content: center;background-color: white;position: relative;}#sk-container-id-1 div.sk-item::before, #sk-container-id-1 div.sk-parallel-item::before {content: \"\";position: absolute;border-left: 1px solid gray;box-sizing: border-box;top: 0;bottom: 0;left: 50%;z-index: -1;}#sk-container-id-1 div.sk-parallel-item {display: flex;flex-direction: column;z-index: 1;position: relative;background-color: white;}#sk-container-id-1 div.sk-parallel-item:first-child::after {align-self: flex-end;width: 50%;}#sk-container-id-1 div.sk-parallel-item:last-child::after {align-self: flex-start;width: 50%;}#sk-container-id-1 div.sk-parallel-item:only-child::after {width: 0;}#sk-container-id-1 div.sk-dashed-wrapped {border: 1px dashed gray;margin: 0 0.4em 0.5em 0.4em;box-sizing: border-box;padding-bottom: 0.4em;background-color: white;}#sk-container-id-1 div.sk-label label {font-family: monospace;font-weight: bold;display: inline-block;line-height: 1.2em;}#sk-container-id-1 div.sk-label-container {text-align: center;}#sk-container-id-1 div.sk-container {/* jupyter's `normalize.less` sets `[hidden] { display: none; }` but bootstrap.min.css set `[hidden] { display: none !important; }` so we also need the `!important` here to be able to override the default hidden behavior on the sphinx rendered scikit-learn.org. See: https://github.com/scikit-learn/scikit-learn/issues/21755 */display: inline-block !important;position: relative;}#sk-container-id-1 div.sk-text-repr-fallback {display: none;}</style><div id=\"sk-container-id-1\" class=\"sk-top-container\"><div class=\"sk-text-repr-fallback\"><pre>KNeighborsClassifier()</pre><b>In a Jupyter environment, please rerun this cell to show the HTML representation or trust the notebook. <br />On GitHub, the HTML representation is unable to render, please try loading this page with nbviewer.org.</b></div><div class=\"sk-container\" hidden><div class=\"sk-item\"><div class=\"sk-estimator sk-toggleable\"><input class=\"sk-toggleable__control sk-hidden--visually\" id=\"sk-estimator-id-1\" type=\"checkbox\" checked><label for=\"sk-estimator-id-1\" class=\"sk-toggleable__label sk-toggleable__label-arrow\">KNeighborsClassifier</label><div class=\"sk-toggleable__content\"><pre>KNeighborsClassifier()</pre></div></div></div></div></div>"
      ],
      "text/plain": [
       "KNeighborsClassifier()"
      ]
     },
     "execution_count": 13,
     "metadata": {},
     "output_type": "execute_result"
    }
   ],
   "source": [
    "# define the model\n",
    "model = KNeighborsClassifier(n_neighbors=5)\n",
    "model.fit(train_X, train_y)"
   ]
  },
  {
   "cell_type": "code",
   "execution_count": 14,
   "id": "ac2fde4a-7af7-4ed3-a3d9-f91cf4f51565",
   "metadata": {
    "tags": []
   },
   "outputs": [
    {
     "data": {
      "text/plain": [
       "0.21428571428571427"
      ]
     },
     "execution_count": 14,
     "metadata": {},
     "output_type": "execute_result"
    }
   ],
   "source": [
    "# test the model\n",
    "model.score(test_X, test_y)"
   ]
  },
  {
   "cell_type": "code",
   "execution_count": 15,
   "id": "b7c0730c-69d7-4ede-8734-7fa22ca42059",
   "metadata": {
    "tags": []
   },
   "outputs": [
    {
     "data": {
      "text/plain": [
       "<Axes: xlabel='GRAVY', ylabel='Tail charge'>"
      ]
     },
     "execution_count": 15,
     "metadata": {},
     "output_type": "execute_result"
    },
    {
     "data": {
      "image/png": "[encoded data removed]",
      "text/plain": [
       "<Figure size 640x480 with 1 Axes>"
      ]
     },
     "metadata": {},
     "output_type": "display_data"
    }
   ],
   "source": [
    "# to plot the predictions of the model\n",
    "\n",
    "DecisionBoundaryDisplay.from_estimator(model, X, cmap=\"PRGn\")\n",
    "sns.scatterplot(data=X, x=\"GRAVY\", y=\"Tail charge\", hue=y, palette=\"Dark2\")"
   ]
  },
  {
   "cell_type": "code",
   "execution_count": 16,
   "id": "d7840253-624c-46cc-ab55-3847f9fcd2c5",
   "metadata": {
    "tags": []
   },
   "outputs": [
    {
     "data": {
      "text/html": [
       "<div>\n",
       "<style scoped>\n",
       "    .dataframe tbody tr th:only-of-type {\n",
       "        vertical-align: middle;\n",
       "    }\n",
       "\n",
       "    .dataframe tbody tr th {\n",
       "        vertical-align: top;\n",
       "    }\n",
       "\n",
       "    .dataframe thead th {\n",
       "        text-align: right;\n",
       "    }\n",
       "</style>\n",
       "<table border=\"1\" class=\"dataframe\">\n",
       "  <thead>\n",
       "    <tr style=\"text-align: right;\">\n",
       "      <th></th>\n",
       "      <th>Location</th>\n",
       "      <th>Name</th>\n",
       "      <th>GRAVY</th>\n",
       "      <th>Tail charge</th>\n",
       "    </tr>\n",
       "  </thead>\n",
       "  <tbody>\n",
       "    <tr>\n",
       "      <th>0</th>\n",
       "      <td>MITO</td>\n",
       "      <td>MAOA</td>\n",
       "      <td>1.706</td>\n",
       "      <td>2.9</td>\n",
       "    </tr>\n",
       "    <tr>\n",
       "      <th>2</th>\n",
       "      <td>MITO</td>\n",
       "      <td>MAOB</td>\n",
       "      <td>1.278</td>\n",
       "      <td>2.9</td>\n",
       "    </tr>\n",
       "    <tr>\n",
       "      <th>3</th>\n",
       "      <td>MITO</td>\n",
       "      <td>CYB5B</td>\n",
       "      <td>1.183</td>\n",
       "      <td>-0.1</td>\n",
       "    </tr>\n",
       "    <tr>\n",
       "      <th>4</th>\n",
       "      <td>MITO</td>\n",
       "      <td>BAX</td>\n",
       "      <td>0.996</td>\n",
       "      <td>1.9</td>\n",
       "    </tr>\n",
       "    <tr>\n",
       "      <th>5</th>\n",
       "      <td>MITO</td>\n",
       "      <td>BAX</td>\n",
       "      <td>1.450</td>\n",
       "      <td>1.9</td>\n",
       "    </tr>\n",
       "    <tr>\n",
       "      <th>6</th>\n",
       "      <td>MITO</td>\n",
       "      <td>BAX</td>\n",
       "      <td>1.280</td>\n",
       "      <td>1.9</td>\n",
       "    </tr>\n",
       "    <tr>\n",
       "      <th>8</th>\n",
       "      <td>MITO</td>\n",
       "      <td>MTX1</td>\n",
       "      <td>2.143</td>\n",
       "      <td>-3.1</td>\n",
       "    </tr>\n",
       "    <tr>\n",
       "      <th>10</th>\n",
       "      <td>MITO</td>\n",
       "      <td>TOMM5</td>\n",
       "      <td>1.578</td>\n",
       "      <td>0.9</td>\n",
       "    </tr>\n",
       "    <tr>\n",
       "      <th>11</th>\n",
       "      <td>MITO</td>\n",
       "      <td>TOMM6</td>\n",
       "      <td>1.211</td>\n",
       "      <td>-2.1</td>\n",
       "    </tr>\n",
       "    <tr>\n",
       "      <th>12</th>\n",
       "      <td>MITO</td>\n",
       "      <td>TOMM7</td>\n",
       "      <td>1.650</td>\n",
       "      <td>-0.1</td>\n",
       "    </tr>\n",
       "    <tr>\n",
       "      <th>13</th>\n",
       "      <td>MITO</td>\n",
       "      <td>TOMM22</td>\n",
       "      <td>2.067</td>\n",
       "      <td>-0.1</td>\n",
       "    </tr>\n",
       "    <tr>\n",
       "      <th>14</th>\n",
       "      <td>MITO</td>\n",
       "      <td>BAK1</td>\n",
       "      <td>1.991</td>\n",
       "      <td>2.9</td>\n",
       "    </tr>\n",
       "    <tr>\n",
       "      <th>15</th>\n",
       "      <td>MITO</td>\n",
       "      <td>MCL1</td>\n",
       "      <td>1.622</td>\n",
       "      <td>0.9</td>\n",
       "    </tr>\n",
       "    <tr>\n",
       "      <th>17</th>\n",
       "      <td>MITO</td>\n",
       "      <td>BCL2L13</td>\n",
       "      <td>2.657</td>\n",
       "      <td>2.9</td>\n",
       "    </tr>\n",
       "    <tr>\n",
       "      <th>22</th>\n",
       "      <td>MITO</td>\n",
       "      <td>BCL2L10</td>\n",
       "      <td>1.750</td>\n",
       "      <td>0.9</td>\n",
       "    </tr>\n",
       "    <tr>\n",
       "      <th>23</th>\n",
       "      <td>MITO</td>\n",
       "      <td>BCL2L2</td>\n",
       "      <td>1.670</td>\n",
       "      <td>0.9</td>\n",
       "    </tr>\n",
       "    <tr>\n",
       "      <th>24</th>\n",
       "      <td>MITO</td>\n",
       "      <td>HRK</td>\n",
       "      <td>1.152</td>\n",
       "      <td>1.9</td>\n",
       "    </tr>\n",
       "    <tr>\n",
       "      <th>25</th>\n",
       "      <td>MITO</td>\n",
       "      <td>GDAP1L1</td>\n",
       "      <td>0.904</td>\n",
       "      <td>2.9</td>\n",
       "    </tr>\n",
       "    <tr>\n",
       "      <th>30</th>\n",
       "      <td>PO</td>\n",
       "      <td>ACBD5</td>\n",
       "      <td>1.226</td>\n",
       "      <td>4.9</td>\n",
       "    </tr>\n",
       "    <tr>\n",
       "      <th>35</th>\n",
       "      <td>PO</td>\n",
       "      <td>PEX26</td>\n",
       "      <td>1.906</td>\n",
       "      <td>5.2</td>\n",
       "    </tr>\n",
       "    <tr>\n",
       "      <th>36</th>\n",
       "      <td>PO</td>\n",
       "      <td>FALDH-PO</td>\n",
       "      <td>2.483</td>\n",
       "      <td>9.1</td>\n",
       "    </tr>\n",
       "    <tr>\n",
       "      <th>37</th>\n",
       "      <td>PO</td>\n",
       "      <td>FAR1</td>\n",
       "      <td>1.589</td>\n",
       "      <td>4.9</td>\n",
       "    </tr>\n",
       "    <tr>\n",
       "      <th>63</th>\n",
       "      <td>ER</td>\n",
       "      <td>BIK</td>\n",
       "      <td>2.539</td>\n",
       "      <td>0.9</td>\n",
       "    </tr>\n",
       "    <tr>\n",
       "      <th>64</th>\n",
       "      <td>ER</td>\n",
       "      <td>CYB5A</td>\n",
       "      <td>1.035</td>\n",
       "      <td>-2.1</td>\n",
       "    </tr>\n",
       "    <tr>\n",
       "      <th>66</th>\n",
       "      <td>ER</td>\n",
       "      <td>HMOX-1</td>\n",
       "      <td>1.683</td>\n",
       "      <td>-0.1</td>\n",
       "    </tr>\n",
       "    <tr>\n",
       "      <th>67</th>\n",
       "      <td>ER</td>\n",
       "      <td>SEC61B</td>\n",
       "      <td>2.048</td>\n",
       "      <td>1.9</td>\n",
       "    </tr>\n",
       "    <tr>\n",
       "      <th>68</th>\n",
       "      <td>ER</td>\n",
       "      <td>SEC61G</td>\n",
       "      <td>1.900</td>\n",
       "      <td>-0.1</td>\n",
       "    </tr>\n",
       "    <tr>\n",
       "      <th>69</th>\n",
       "      <td>ER</td>\n",
       "      <td>FALDH-ER</td>\n",
       "      <td>2.447</td>\n",
       "      <td>-1.1</td>\n",
       "    </tr>\n",
       "    <tr>\n",
       "      <th>70</th>\n",
       "      <td>ER</td>\n",
       "      <td>UBE2J1</td>\n",
       "      <td>2.043</td>\n",
       "      <td>-3.1</td>\n",
       "    </tr>\n",
       "    <tr>\n",
       "      <th>71</th>\n",
       "      <td>ER</td>\n",
       "      <td>UBE2J2</td>\n",
       "      <td>1.852</td>\n",
       "      <td>0.9</td>\n",
       "    </tr>\n",
       "    <tr>\n",
       "      <th>74</th>\n",
       "      <td>ER</td>\n",
       "      <td>PTPN1</td>\n",
       "      <td>1.570</td>\n",
       "      <td>-0.1</td>\n",
       "    </tr>\n",
       "    <tr>\n",
       "      <th>76</th>\n",
       "      <td>ER</td>\n",
       "      <td>VAPA</td>\n",
       "      <td>2.039</td>\n",
       "      <td>-0.1</td>\n",
       "    </tr>\n",
       "    <tr>\n",
       "      <th>78</th>\n",
       "      <td>ER</td>\n",
       "      <td>VAPB</td>\n",
       "      <td>2.274</td>\n",
       "      <td>-0.1</td>\n",
       "    </tr>\n",
       "    <tr>\n",
       "      <th>79</th>\n",
       "      <td>ER</td>\n",
       "      <td>SERP1</td>\n",
       "      <td>2.091</td>\n",
       "      <td>0.9</td>\n",
       "    </tr>\n",
       "    <tr>\n",
       "      <th>80</th>\n",
       "      <td>ER</td>\n",
       "      <td>SLMAP</td>\n",
       "      <td>1.674</td>\n",
       "      <td>0.9</td>\n",
       "    </tr>\n",
       "    <tr>\n",
       "      <th>81</th>\n",
       "      <td>ER</td>\n",
       "      <td>PARP16</td>\n",
       "      <td>2.152</td>\n",
       "      <td>3.1</td>\n",
       "    </tr>\n",
       "    <tr>\n",
       "      <th>82</th>\n",
       "      <td>ER</td>\n",
       "      <td>CDKAL1</td>\n",
       "      <td>1.839</td>\n",
       "      <td>-0.1</td>\n",
       "    </tr>\n",
       "    <tr>\n",
       "      <th>83</th>\n",
       "      <td>ER</td>\n",
       "      <td>SMPD4</td>\n",
       "      <td>1.739</td>\n",
       "      <td>1.2</td>\n",
       "    </tr>\n",
       "    <tr>\n",
       "      <th>86</th>\n",
       "      <td>ER</td>\n",
       "      <td>USP19</td>\n",
       "      <td>1.983</td>\n",
       "      <td>1.9</td>\n",
       "    </tr>\n",
       "    <tr>\n",
       "      <th>88</th>\n",
       "      <td>ER</td>\n",
       "      <td>JPH1</td>\n",
       "      <td>2.313</td>\n",
       "      <td>-0.1</td>\n",
       "    </tr>\n",
       "    <tr>\n",
       "      <th>89</th>\n",
       "      <td>ER</td>\n",
       "      <td>JPH2</td>\n",
       "      <td>2.400</td>\n",
       "      <td>-0.1</td>\n",
       "    </tr>\n",
       "    <tr>\n",
       "      <th>90</th>\n",
       "      <td>ER</td>\n",
       "      <td>JPH3</td>\n",
       "      <td>2.583</td>\n",
       "      <td>-0.1</td>\n",
       "    </tr>\n",
       "    <tr>\n",
       "      <th>91</th>\n",
       "      <td>ER</td>\n",
       "      <td>JPH4</td>\n",
       "      <td>2.182</td>\n",
       "      <td>-0.1</td>\n",
       "    </tr>\n",
       "  </tbody>\n",
       "</table>\n",
       "</div>"
      ],
      "text/plain": [
       "   Location      Name  GRAVY  Tail charge\n",
       "0      MITO      MAOA  1.706          2.9\n",
       "2      MITO      MAOB  1.278          2.9\n",
       "3      MITO     CYB5B  1.183         -0.1\n",
       "4      MITO       BAX  0.996          1.9\n",
       "5      MITO       BAX  1.450          1.9\n",
       "6      MITO       BAX  1.280          1.9\n",
       "8      MITO      MTX1  2.143         -3.1\n",
       "10     MITO     TOMM5  1.578          0.9\n",
       "11     MITO     TOMM6  1.211         -2.1\n",
       "12     MITO     TOMM7  1.650         -0.1\n",
       "13     MITO    TOMM22  2.067         -0.1\n",
       "14     MITO      BAK1  1.991          2.9\n",
       "15     MITO      MCL1  1.622          0.9\n",
       "17     MITO   BCL2L13  2.657          2.9\n",
       "22     MITO   BCL2L10  1.750          0.9\n",
       "23     MITO    BCL2L2  1.670          0.9\n",
       "24     MITO       HRK  1.152          1.9\n",
       "25     MITO   GDAP1L1  0.904          2.9\n",
       "30       PO     ACBD5  1.226          4.9\n",
       "35       PO     PEX26  1.906          5.2\n",
       "36       PO  FALDH-PO  2.483          9.1\n",
       "37       PO      FAR1  1.589          4.9\n",
       "63       ER       BIK  2.539          0.9\n",
       "64       ER     CYB5A  1.035         -2.1\n",
       "66       ER    HMOX-1  1.683         -0.1\n",
       "67       ER    SEC61B  2.048          1.9\n",
       "68       ER    SEC61G  1.900         -0.1\n",
       "69       ER  FALDH-ER  2.447         -1.1\n",
       "70       ER    UBE2J1  2.043         -3.1\n",
       "71       ER    UBE2J2  1.852          0.9\n",
       "74       ER     PTPN1  1.570         -0.1\n",
       "76       ER      VAPA  2.039         -0.1\n",
       "78       ER      VAPB  2.274         -0.1\n",
       "79       ER     SERP1  2.091          0.9\n",
       "80       ER     SLMAP  1.674          0.9\n",
       "81       ER    PARP16  2.152          3.1\n",
       "82       ER    CDKAL1  1.839         -0.1\n",
       "83       ER     SMPD4  1.739          1.2\n",
       "86       ER     USP19  1.983          1.9\n",
       "88       ER      JPH1  2.313         -0.1\n",
       "89       ER      JPH2  2.400         -0.1\n",
       "90       ER      JPH3  2.583         -0.1\n",
       "91       ER      JPH4  2.182         -0.1"
      ]
     },
     "execution_count": 16,
     "metadata": {},
     "output_type": "execute_result"
    }
   ],
   "source": [
    "# remove proteins that localize to multiple organelles\n",
    "\n",
    "data_teacher_3 = data_teacher_2[(data_teacher_2[\"Location\"] == \"MITO\") | (data_teacher_2[\"Location\"] == \"PO\") | (data_teacher_2[\"Location\"] == \"ER\")]\n",
    "data_teacher_3"
   ]
  },
  {
   "cell_type": "code",
   "execution_count": 17,
   "id": "20897ef5-3908-4829-8eb5-baabad9feef4",
   "metadata": {
    "tags": []
   },
   "outputs": [],
   "source": [
    "# define parameter used for Nearest neighbours\n",
    "\n",
    "X2 = data_teacher_3[[\"GRAVY\", \"Tail charge\"]]\n",
    "y2 = data_teacher_3[\"Location\"]"
   ]
  },
  {
   "cell_type": "code",
   "execution_count": 18,
   "id": "a127c8fc-ff3a-44f9-b9d2-c66e57dd75c4",
   "metadata": {
    "tags": []
   },
   "outputs": [],
   "source": [
    "# split data into a training data set and a test data set\n",
    "train_X2, test_X2, train_y2, test_y2 = train_test_split(X2, y2)"
   ]
  },
  {
   "cell_type": "code",
   "execution_count": 19,
   "id": "c5e62daf-32b9-43ed-b7a3-5612f5a842ab",
   "metadata": {
    "tags": []
   },
   "outputs": [
    {
     "data": {
      "text/html": [
       "<style>#sk-container-id-2 {color: black;}#sk-container-id-2 pre{padding: 0;}#sk-container-id-2 div.sk-toggleable {background-color: white;}#sk-container-id-2 label.sk-toggleable__label {cursor: pointer;display: block;width: 100%;margin-bottom: 0;padding: 0.3em;box-sizing: border-box;text-align: center;}#sk-container-id-2 label.sk-toggleable__label-arrow:before {content: \"▸\";float: left;margin-right: 0.25em;color: #696969;}#sk-container-id-2 label.sk-toggleable__label-arrow:hover:before {color: black;}#sk-container-id-2 div.sk-estimator:hover label.sk-toggleable__label-arrow:before {color: black;}#sk-container-id-2 div.sk-toggleable__content {max-height: 0;max-width: 0;overflow: hidden;text-align: left;background-color: #f0f8ff;}#sk-container-id-2 div.sk-toggleable__content pre {margin: 0.2em;color: black;border-radius: 0.25em;background-color: #f0f8ff;}#sk-container-id-2 input.sk-toggleable__control:checked~div.sk-toggleable__content {max-height: 200px;max-width: 100%;overflow: auto;}#sk-container-id-2 input.sk-toggleable__control:checked~label.sk-toggleable__label-arrow:before {content: \"▾\";}#sk-container-id-2 div.sk-estimator input.sk-toggleable__control:checked~label.sk-toggleable__label {background-color: #d4ebff;}#sk-container-id-2 div.sk-label input.sk-toggleable__control:checked~label.sk-toggleable__label {background-color: #d4ebff;}#sk-container-id-2 input.sk-hidden--visually {border: 0;clip: rect(1px 1px 1px 1px);clip: rect(1px, 1px, 1px, 1px);height: 1px;margin: -1px;overflow: hidden;padding: 0;position: absolute;width: 1px;}#sk-container-id-2 div.sk-estimator {font-family: monospace;background-color: #f0f8ff;border: 1px dotted black;border-radius: 0.25em;box-sizing: border-box;margin-bottom: 0.5em;}#sk-container-id-2 div.sk-estimator:hover {background-color: #d4ebff;}#sk-container-id-2 div.sk-parallel-item::after {content: \"\";width: 100%;border-bottom: 1px solid gray;flex-grow: 1;}#sk-container-id-2 div.sk-label:hover label.sk-toggleable__label {background-color: #d4ebff;}#sk-container-id-2 div.sk-serial::before {content: \"\";position: absolute;border-left: 1px solid gray;box-sizing: border-box;top: 0;bottom: 0;left: 50%;z-index: 0;}#sk-container-id-2 div.sk-serial {display: flex;flex-direction: column;align-items: center;background-color: white;padding-right: 0.2em;padding-left: 0.2em;position: relative;}#sk-container-id-2 div.sk-item {position: relative;z-index: 1;}#sk-container-id-2 div.sk-parallel {display: flex;align-items: stretch;justify-content: center;background-color: white;position: relative;}#sk-container-id-2 div.sk-item::before, #sk-container-id-2 div.sk-parallel-item::before {content: \"\";position: absolute;border-left: 1px solid gray;box-sizing: border-box;top: 0;bottom: 0;left: 50%;z-index: -1;}#sk-container-id-2 div.sk-parallel-item {display: flex;flex-direction: column;z-index: 1;position: relative;background-color: white;}#sk-container-id-2 div.sk-parallel-item:first-child::after {align-self: flex-end;width: 50%;}#sk-container-id-2 div.sk-parallel-item:last-child::after {align-self: flex-start;width: 50%;}#sk-container-id-2 div.sk-parallel-item:only-child::after {width: 0;}#sk-container-id-2 div.sk-dashed-wrapped {border: 1px dashed gray;margin: 0 0.4em 0.5em 0.4em;box-sizing: border-box;padding-bottom: 0.4em;background-color: white;}#sk-container-id-2 div.sk-label label {font-family: monospace;font-weight: bold;display: inline-block;line-height: 1.2em;}#sk-container-id-2 div.sk-label-container {text-align: center;}#sk-container-id-2 div.sk-container {/* jupyter's `normalize.less` sets `[hidden] { display: none; }` but bootstrap.min.css set `[hidden] { display: none !important; }` so we also need the `!important` here to be able to override the default hidden behavior on the sphinx rendered scikit-learn.org. See: https://github.com/scikit-learn/scikit-learn/issues/21755 */display: inline-block !important;position: relative;}#sk-container-id-2 div.sk-text-repr-fallback {display: none;}</style><div id=\"sk-container-id-2\" class=\"sk-top-container\"><div class=\"sk-text-repr-fallback\"><pre>KNeighborsClassifier()</pre><b>In a Jupyter environment, please rerun this cell to show the HTML representation or trust the notebook. <br />On GitHub, the HTML representation is unable to render, please try loading this page with nbviewer.org.</b></div><div class=\"sk-container\" hidden><div class=\"sk-item\"><div class=\"sk-estimator sk-toggleable\"><input class=\"sk-toggleable__control sk-hidden--visually\" id=\"sk-estimator-id-2\" type=\"checkbox\" checked><label for=\"sk-estimator-id-2\" class=\"sk-toggleable__label sk-toggleable__label-arrow\">KNeighborsClassifier</label><div class=\"sk-toggleable__content\"><pre>KNeighborsClassifier()</pre></div></div></div></div></div>"
      ],
      "text/plain": [
       "KNeighborsClassifier()"
      ]
     },
     "execution_count": 19,
     "metadata": {},
     "output_type": "execute_result"
    }
   ],
   "source": [
    "# define model\n",
    "model2 = KNeighborsClassifier(n_neighbors=5)\n",
    "model2.fit(train_X2, train_y2)"
   ]
  },
  {
   "cell_type": "code",
   "execution_count": 20,
   "id": "466d55a8-4eb5-41cc-94ff-b411ad7e4b09",
   "metadata": {
    "tags": []
   },
   "outputs": [
    {
     "data": {
      "text/plain": [
       "0.5454545454545454"
      ]
     },
     "execution_count": 20,
     "metadata": {},
     "output_type": "execute_result"
    }
   ],
   "source": [
    "# test the model\n",
    "model2.score(test_X2, test_y2)"
   ]
  },
  {
   "cell_type": "markdown",
   "id": "ce31faca-0603-402e-af60-d002822d43e1",
   "metadata": {},
   "source": [
    "the score is not good... but still move on"
   ]
  },
  {
   "cell_type": "code",
   "execution_count": 21,
   "id": "d1134d0f-a15f-4330-abc0-cd3e2df6f82e",
   "metadata": {
    "tags": []
   },
   "outputs": [
    {
     "data": {
      "text/plain": [
       "<Axes: xlabel='GRAVY', ylabel='Tail charge'>"
      ]
     },
     "execution_count": 21,
     "metadata": {},
     "output_type": "execute_result"
    },
    {
     "data": {
      "image/png": "[encoded data removed]",
      "text/plain": [
       "<Figure size 640x480 with 1 Axes>"
      ]
     },
     "metadata": {},
     "output_type": "display_data"
    }
   ],
   "source": [
    "# to plot the predictions of the model\n",
    "\n",
    "DecisionBoundaryDisplay.from_estimator(model2, X, cmap=\"PRGn\")\n",
    "sns.scatterplot(data=X2, x=\"GRAVY\", y=\"Tail charge\", hue=y2, palette=\"Dark2\")"
   ]
  },
  {
   "cell_type": "code",
   "execution_count": 22,
   "id": "d21cd5bd-f290-4e08-b6df-a5d476bfe614",
   "metadata": {
    "tags": []
   },
   "outputs": [
    {
     "name": "stdout",
     "output_type": "stream",
     "text": [
      "\n"
     ]
    }
   ],
   "source": [
    "# import list of predicted-proteins whose localization is not known\n",
    "pred = pd.read_excel(\"/Users/jiang/Desktop/SWBio ML assignment/zebrafish_TA_protein_prediction.xlsx\")\n",
    "print()"
   ]
  },
  {
   "cell_type": "code",
   "execution_count": 23,
   "id": "f9f241b3-efc5-46f0-b682-7986f8e22ebb",
   "metadata": {
    "tags": []
   },
   "outputs": [
    {
     "data": {
      "text/html": [
       "<div>\n",
       "<style scoped>\n",
       "    .dataframe tbody tr th:only-of-type {\n",
       "        vertical-align: middle;\n",
       "    }\n",
       "\n",
       "    .dataframe tbody tr th {\n",
       "        vertical-align: top;\n",
       "    }\n",
       "\n",
       "    .dataframe thead th {\n",
       "        text-align: right;\n",
       "    }\n",
       "</style>\n",
       "<table border=\"1\" class=\"dataframe\">\n",
       "  <thead>\n",
       "    <tr style=\"text-align: right;\">\n",
       "      <th></th>\n",
       "      <th>Annotated as</th>\n",
       "      <th>TMD</th>\n",
       "      <th>GRAVY</th>\n",
       "      <th>Tail charge</th>\n",
       "    </tr>\n",
       "  </thead>\n",
       "  <tbody>\n",
       "    <tr>\n",
       "      <th>0</th>\n",
       "      <td>cntn1a</td>\n",
       "      <td>GLVGMAIVGGIGLGVAGLAGLI</td>\n",
       "      <td>NaN</td>\n",
       "      <td>NaN</td>\n",
       "    </tr>\n",
       "    <tr>\n",
       "      <th>1</th>\n",
       "      <td>acbd5b</td>\n",
       "      <td>SPFTAVLTVLWPFAVHWLVQFYL</td>\n",
       "      <td>1.252</td>\n",
       "      <td>4.9</td>\n",
       "    </tr>\n",
       "    <tr>\n",
       "      <th>2</th>\n",
       "      <td>bokax,Bcl-2-relatedovariankillerproteinhomologA</td>\n",
       "      <td>WLVTAACACGHYLKAVVFYLL</td>\n",
       "      <td>1.481</td>\n",
       "      <td>0.9</td>\n",
       "    </tr>\n",
       "    <tr>\n",
       "      <th>3</th>\n",
       "      <td>acbd5a</td>\n",
       "      <td>WWPFDVSLGTVAFAVVWPFVV</td>\n",
       "      <td>1.414</td>\n",
       "      <td>5.9</td>\n",
       "    </tr>\n",
       "    <tr>\n",
       "      <th>4</th>\n",
       "      <td>cdkal1</td>\n",
       "      <td>ILAVVLLLSAVLLALLMEKLL</td>\n",
       "      <td>2.581</td>\n",
       "      <td>//</td>\n",
       "    </tr>\n",
       "  </tbody>\n",
       "</table>\n",
       "</div>"
      ],
      "text/plain": [
       "                                      Annotated as                      TMD  \\\n",
       "0                                           cntn1a   GLVGMAIVGGIGLGVAGLAGLI   \n",
       "1                                           acbd5b  SPFTAVLTVLWPFAVHWLVQFYL   \n",
       "2  bokax,Bcl-2-relatedovariankillerproteinhomologA    WLVTAACACGHYLKAVVFYLL   \n",
       "3                                           acbd5a    WWPFDVSLGTVAFAVVWPFVV   \n",
       "4                                           cdkal1    ILAVVLLLSAVLLALLMEKLL   \n",
       "\n",
       "   GRAVY Tail charge  \n",
       "0    NaN         NaN  \n",
       "1  1.252         4.9  \n",
       "2  1.481         0.9  \n",
       "3  1.414         5.9  \n",
       "4  2.581          //  "
      ]
     },
     "execution_count": 23,
     "metadata": {},
     "output_type": "execute_result"
    }
   ],
   "source": [
    "# filter the data\n",
    "pred_1 = pred.filter([\"Annotated as\", \"TMD\", \"GRAVY\", \"Tail charge\"], axis=1)\n",
    "pred_1.head()"
   ]
  },
  {
   "cell_type": "code",
   "execution_count": 24,
   "id": "bd9a422c-d7f3-4487-b85a-dc8c4b464528",
   "metadata": {
    "tags": []
   },
   "outputs": [
    {
     "name": "stdout",
     "output_type": "stream",
     "text": [
      "                                        Annotated as                      TMD  \\\n",
      "1                                             acbd5b  SPFTAVLTVLWPFAVHWLVQFYL   \n",
      "2    bokax,Bcl-2-relatedovariankillerproteinhomologA    WLVTAACACGHYLKAVVFYLL   \n",
      "3                                             acbd5a    WWPFDVSLGTVAFAVVWPFVV   \n",
      "4                                             cdkal1    ILAVVLLLSAVLLALLMEKLL   \n",
      "5                                           ankrd46b    VLLLLVVIALLSLGIAYYVSG   \n",
      "..                                               ...                      ...   \n",
      "649                                           rnf152   AWTGVCTVLLVAFILIFLLGIV   \n",
      "650                                            lrch4   SIGFLLFYSLLMALLYLLYCNL   \n",
      "651                                     LOC101885013   AAVSSPAAWVGVGIGVCAAYAY   \n",
      "652                                             lmln   VVNLWQLLLTLTPLLIGFLLCG   \n",
      "653                                            caln1   SLICAFAMAFIISVMLIAANQM   \n",
      "\n",
      "        GRAVY Tail charge  \n",
      "1    1.252000         4.9  \n",
      "2    1.481000         0.9  \n",
      "3    1.414000         5.9  \n",
      "4    2.581000          //  \n",
      "5    2.429000        -0.8  \n",
      "..        ...         ...  \n",
      "649  2.631818    2.087354  \n",
      "650  1.868182       -0.09  \n",
      "651  1.295455     1.90998  \n",
      "652  1.850000   -1.087494  \n",
      "653  2.000000   -0.087504  \n",
      "\n",
      "[452 rows x 4 columns]\n"
     ]
    }
   ],
   "source": [
    "# remove row with NaN\n",
    "pred_2 = pred_1.dropna(axis = 0, how = \"any\")\n",
    "print(pred_2)"
   ]
  },
  {
   "cell_type": "code",
   "execution_count": 25,
   "id": "c6ac9434-f58e-4eeb-a660-399447462791",
   "metadata": {
    "tags": []
   },
   "outputs": [
    {
     "name": "stdout",
     "output_type": "stream",
     "text": [
      "                                        Annotated as                      TMD  \\\n",
      "1                                             acbd5b  SPFTAVLTVLWPFAVHWLVQFYL   \n",
      "2    bokax,Bcl-2-relatedovariankillerproteinhomologA    WLVTAACACGHYLKAVVFYLL   \n",
      "3                                             acbd5a    WWPFDVSLGTVAFAVVWPFVV   \n",
      "5                                           ankrd46b    VLLLLVVIALLSLGIAYYVSG   \n",
      "6                                              stx18    AGFRVWILFFLVMCSFSLLFL   \n",
      "..                                               ...                      ...   \n",
      "649                                           rnf152   AWTGVCTVLLVAFILIFLLGIV   \n",
      "650                                            lrch4   SIGFLLFYSLLMALLYLLYCNL   \n",
      "651                                     LOC101885013   AAVSSPAAWVGVGIGVCAAYAY   \n",
      "652                                             lmln   VVNLWQLLLTLTPLLIGFLLCG   \n",
      "653                                            caln1   SLICAFAMAFIISVMLIAANQM   \n",
      "\n",
      "        GRAVY Tail charge  \n",
      "1    1.252000         4.9  \n",
      "2    1.481000         0.9  \n",
      "3    1.414000         5.9  \n",
      "5    2.429000        -0.8  \n",
      "6    2.129000        -2.1  \n",
      "..        ...         ...  \n",
      "649  2.631818    2.087354  \n",
      "650  1.868182       -0.09  \n",
      "651  1.295455     1.90998  \n",
      "652  1.850000   -1.087494  \n",
      "653  2.000000   -0.087504  \n",
      "\n",
      "[451 rows x 4 columns]\n"
     ]
    }
   ],
   "source": [
    "# same as the teacher data, remove the column with \"//\", whcih means NaN\n",
    "\n",
    "pred_3 = pred_2.drop(pred_2[pred_2[\"Tail charge\"] == \"//\"].index)\n",
    "print(pred_3)"
   ]
  },
  {
   "cell_type": "markdown",
   "id": "8ee2f542-a8f2-4fe6-809a-c7be6ab791bf",
   "metadata": {},
   "source": [
    "#### The following cell can be skipped when assessed"
   ]
  },
  {
   "cell_type": "code",
   "execution_count": 26,
   "id": "df0defd0-0a10-40a3-9a9b-1f51caf23e8a",
   "metadata": {
    "tags": []
   },
   "outputs": [],
   "source": [
    "# save the dataframe as excel file\n",
    "# pred_3.to_excel('/Users/jiang/Desktop/SWBio ML assignment/prediction_protein list.xlsx')"
   ]
  },
  {
   "cell_type": "code",
   "execution_count": 27,
   "id": "2a07d39b-25fb-4d26-bbdd-1dab50640ae7",
   "metadata": {
    "tags": []
   },
   "outputs": [],
   "source": [
    "# create new dataframe that only contains specific columns\n",
    "pred_4 = pred_3[[\"GRAVY\", \"Tail charge\"]]"
   ]
  },
  {
   "cell_type": "code",
   "execution_count": 28,
   "id": "42c00c95-bbfb-45c5-8bc0-34943267848e",
   "metadata": {
    "tags": []
   },
   "outputs": [
    {
     "name": "stderr",
     "output_type": "stream",
     "text": [
      "/var/folders/jr/s08dyk3n2dzbbsypszr02wxc0000gn/T/ipykernel_19472/2347378118.py:1: SettingWithCopyWarning: \n",
      "A value is trying to be set on a copy of a slice from a DataFrame.\n",
      "Try using .loc[row_indexer,col_indexer] = value instead\n",
      "\n",
      "See the caveats in the documentation: https://pandas.pydata.org/pandas-docs/stable/user_guide/indexing.html#returning-a-view-versus-a-copy\n",
      "  pred_4[\"Location\"] = model2.predict(pred_4)\n"
     ]
    },
    {
     "data": {
      "text/html": [
       "<div>\n",
       "<style scoped>\n",
       "    .dataframe tbody tr th:only-of-type {\n",
       "        vertical-align: middle;\n",
       "    }\n",
       "\n",
       "    .dataframe tbody tr th {\n",
       "        vertical-align: top;\n",
       "    }\n",
       "\n",
       "    .dataframe thead th {\n",
       "        text-align: right;\n",
       "    }\n",
       "</style>\n",
       "<table border=\"1\" class=\"dataframe\">\n",
       "  <thead>\n",
       "    <tr style=\"text-align: right;\">\n",
       "      <th></th>\n",
       "      <th>GRAVY</th>\n",
       "      <th>Tail charge</th>\n",
       "      <th>Location</th>\n",
       "    </tr>\n",
       "  </thead>\n",
       "  <tbody>\n",
       "    <tr>\n",
       "      <th>1</th>\n",
       "      <td>1.252000</td>\n",
       "      <td>4.9</td>\n",
       "      <td>PO</td>\n",
       "    </tr>\n",
       "    <tr>\n",
       "      <th>2</th>\n",
       "      <td>1.481000</td>\n",
       "      <td>0.9</td>\n",
       "      <td>MITO</td>\n",
       "    </tr>\n",
       "    <tr>\n",
       "      <th>3</th>\n",
       "      <td>1.414000</td>\n",
       "      <td>5.9</td>\n",
       "      <td>PO</td>\n",
       "    </tr>\n",
       "    <tr>\n",
       "      <th>5</th>\n",
       "      <td>2.429000</td>\n",
       "      <td>-0.8</td>\n",
       "      <td>ER</td>\n",
       "    </tr>\n",
       "    <tr>\n",
       "      <th>6</th>\n",
       "      <td>2.129000</td>\n",
       "      <td>-2.1</td>\n",
       "      <td>ER</td>\n",
       "    </tr>\n",
       "    <tr>\n",
       "      <th>...</th>\n",
       "      <td>...</td>\n",
       "      <td>...</td>\n",
       "      <td>...</td>\n",
       "    </tr>\n",
       "    <tr>\n",
       "      <th>649</th>\n",
       "      <td>2.631818</td>\n",
       "      <td>2.087354</td>\n",
       "      <td>MITO</td>\n",
       "    </tr>\n",
       "    <tr>\n",
       "      <th>650</th>\n",
       "      <td>1.868182</td>\n",
       "      <td>-0.09</td>\n",
       "      <td>ER</td>\n",
       "    </tr>\n",
       "    <tr>\n",
       "      <th>651</th>\n",
       "      <td>1.295455</td>\n",
       "      <td>1.90998</td>\n",
       "      <td>MITO</td>\n",
       "    </tr>\n",
       "    <tr>\n",
       "      <th>652</th>\n",
       "      <td>1.850000</td>\n",
       "      <td>-1.087494</td>\n",
       "      <td>ER</td>\n",
       "    </tr>\n",
       "    <tr>\n",
       "      <th>653</th>\n",
       "      <td>2.000000</td>\n",
       "      <td>-0.087504</td>\n",
       "      <td>ER</td>\n",
       "    </tr>\n",
       "  </tbody>\n",
       "</table>\n",
       "<p>451 rows × 3 columns</p>\n",
       "</div>"
      ],
      "text/plain": [
       "        GRAVY Tail charge Location\n",
       "1    1.252000         4.9       PO\n",
       "2    1.481000         0.9     MITO\n",
       "3    1.414000         5.9       PO\n",
       "5    2.429000        -0.8       ER\n",
       "6    2.129000        -2.1       ER\n",
       "..        ...         ...      ...\n",
       "649  2.631818    2.087354     MITO\n",
       "650  1.868182       -0.09       ER\n",
       "651  1.295455     1.90998     MITO\n",
       "652  1.850000   -1.087494       ER\n",
       "653  2.000000   -0.087504       ER\n",
       "\n",
       "[451 rows x 3 columns]"
      ]
     },
     "execution_count": 28,
     "metadata": {},
     "output_type": "execute_result"
    }
   ],
   "source": [
    "pred_4[\"Location\"] = model2.predict(pred_4)  \n",
    "pred_4"
   ]
  },
  {
   "cell_type": "markdown",
   "id": "974ffad9-5bd9-4d02-af1a-8eba5a3dd555",
   "metadata": {},
   "source": [
    "#### The following cell can be skipped when assessed"
   ]
  },
  {
   "cell_type": "code",
   "execution_count": 29,
   "id": "874a5e22-98ba-42f0-8356-2bc3bd1f8373",
   "metadata": {
    "tags": []
   },
   "outputs": [],
   "source": [
    "# save the data as an excel file\n",
    "pred_4.to_excel('/Users/jiang/Desktop/SWBio ML assignment/prediction_result.xlsx')"
   ]
  },
  {
   "cell_type": "code",
   "execution_count": 30,
   "id": "f4b4968f-96f2-4dc2-a283-5528f9664218",
   "metadata": {
    "tags": []
   },
   "outputs": [
    {
     "name": "stderr",
     "output_type": "stream",
     "text": [
      "/Users/jiang/anaconda3/lib/python3.11/site-packages/seaborn/axisgrid.py:118: UserWarning: The figure layout has changed to tight\n",
      "  self._figure.tight_layout(*args, **kwargs)\n"
     ]
    },
    {
     "data": {
      "text/plain": [
       "<seaborn.axisgrid.FacetGrid at 0x141c7f5d0>"
      ]
     },
     "execution_count": 30,
     "metadata": {},
     "output_type": "execute_result"
    },
    {
     "data": {
      "image/png": "[encoded data removed]",
      "text/plain": [
       "<Figure size 585.5x500 with 1 Axes>"
      ]
     },
     "metadata": {},
     "output_type": "display_data"
    }
   ],
   "source": [
    "#plot the result of prediction\n",
    "\n",
    "sns.relplot(\n",
    "    data=pred_4,\n",
    "    x=\"GRAVY\",\n",
    "    y=\"Tail charge\",\n",
    "    hue=\"Location\",\n",
    ")"
   ]
  }
 ],
 "metadata": {
  "kernelspec": {
   "display_name": "Python 3 (ipykernel)",
   "language": "python",
   "name": "python3"
  },
  "language_info": {
   "codemirror_mode": {
    "name": "ipython",
    "version": 3
   },
   "file_extension": ".py",
   "mimetype": "text/x-python",
   "name": "python",
   "nbconvert_exporter": "python",
   "pygments_lexer": "ipython3",
   "version": "3.11.5"
  }
 },
 "nbformat": 4,
 "nbformat_minor": 5
}
